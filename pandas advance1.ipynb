{
 "cells": [
  {
   "cell_type": "code",
   "execution_count": 1,
   "id": "7282860a",
   "metadata": {},
   "outputs": [
    {
     "data": {
      "text/html": [
       "<div>\n",
       "<style scoped>\n",
       "    .dataframe tbody tr th:only-of-type {\n",
       "        vertical-align: middle;\n",
       "    }\n",
       "\n",
       "    .dataframe tbody tr th {\n",
       "        vertical-align: top;\n",
       "    }\n",
       "\n",
       "    .dataframe thead th {\n",
       "        text-align: right;\n",
       "    }\n",
       "</style>\n",
       "<table border=\"1\" class=\"dataframe\">\n",
       "  <thead>\n",
       "    <tr style=\"text-align: right;\">\n",
       "      <th></th>\n",
       "      <th>course_name</th>\n",
       "      <th>duration</th>\n",
       "    </tr>\n",
       "  </thead>\n",
       "  <tbody>\n",
       "    <tr>\n",
       "      <th>0</th>\n",
       "      <td>Data Science</td>\n",
       "      <td>2</td>\n",
       "    </tr>\n",
       "    <tr>\n",
       "      <th>1</th>\n",
       "      <td>Machine learning</td>\n",
       "      <td>3</td>\n",
       "    </tr>\n",
       "    <tr>\n",
       "      <th>2</th>\n",
       "      <td>Big Data</td>\n",
       "      <td>6</td>\n",
       "    </tr>\n",
       "    <tr>\n",
       "      <th>3</th>\n",
       "      <td>Data Engineer</td>\n",
       "      <td>4</td>\n",
       "    </tr>\n",
       "  </tbody>\n",
       "</table>\n",
       "</div>"
      ],
      "text/plain": [
       "        course_name  duration\n",
       "0      Data Science         2\n",
       "1  Machine learning         3\n",
       "2          Big Data         6\n",
       "3     Data Engineer         4"
      ]
     },
     "execution_count": 1,
     "metadata": {},
     "output_type": "execute_result"
    }
   ],
   "source": [
    "import pandas as pd\n",
    "course_name = ['Data Science','Machine learning','Big Data','Data Engineer']\n",
    "duration=[2,3,6,4]\n",
    "df = pd.DataFrame(data = {'course_name':course_name,'duration':duration})\n",
    "df"
   ]
  },
  {
   "cell_type": "code",
   "execution_count": 2,
   "id": "c6aa61b8",
   "metadata": {},
   "outputs": [],
   "source": [
    "#Q1. Write a code to print the data present in the second row of the dataframe, df."
   ]
  },
  {
   "cell_type": "code",
   "execution_count": 3,
   "id": "745eb1ee",
   "metadata": {},
   "outputs": [
    {
     "data": {
      "text/html": [
       "<div>\n",
       "<style scoped>\n",
       "    .dataframe tbody tr th:only-of-type {\n",
       "        vertical-align: middle;\n",
       "    }\n",
       "\n",
       "    .dataframe tbody tr th {\n",
       "        vertical-align: top;\n",
       "    }\n",
       "\n",
       "    .dataframe thead th {\n",
       "        text-align: right;\n",
       "    }\n",
       "</style>\n",
       "<table border=\"1\" class=\"dataframe\">\n",
       "  <thead>\n",
       "    <tr style=\"text-align: right;\">\n",
       "      <th></th>\n",
       "      <th>course_name</th>\n",
       "      <th>duration</th>\n",
       "    </tr>\n",
       "  </thead>\n",
       "  <tbody>\n",
       "    <tr>\n",
       "      <th>1</th>\n",
       "      <td>Machine learning</td>\n",
       "      <td>3</td>\n",
       "    </tr>\n",
       "  </tbody>\n",
       "</table>\n",
       "</div>"
      ],
      "text/plain": [
       "        course_name  duration\n",
       "1  Machine learning         3"
      ]
     },
     "execution_count": 3,
     "metadata": {},
     "output_type": "execute_result"
    }
   ],
   "source": [
    "df[1:2]"
   ]
  },
  {
   "cell_type": "code",
   "execution_count": 4,
   "id": "e570d33a",
   "metadata": {},
   "outputs": [
    {
     "ename": "SyntaxError",
     "evalue": "invalid syntax (2816785865.py, line 2)",
     "output_type": "error",
     "traceback": [
      "\u001b[1;36m  File \u001b[1;32m\"C:\\Users\\PADMINI SINGH\\AppData\\Local\\Temp\\ipykernel_38732\\2816785865.py\"\u001b[1;36m, line \u001b[1;32m2\u001b[0m\n\u001b[1;33m    loc:  this function surpass the boundary of row index.\u001b[0m\n\u001b[1;37m               ^\u001b[0m\n\u001b[1;31mSyntaxError\u001b[0m\u001b[1;31m:\u001b[0m invalid syntax\n"
     ]
    }
   ],
   "source": [
    "Q2. What is the difference between the functions loc and iloc in pandas.DataFrame?\n",
    "loc:  this function surpass the boundary of row index.\n",
    "      this function executed for column names.\n",
    "iloc: this function does not surpass the boundary of row index.\n",
    "      whereas this function executed for numerical column names."
   ]
  },
  {
   "cell_type": "code",
   "execution_count": null,
   "id": "093b0aee",
   "metadata": {},
   "outputs": [],
   "source": [
    "#df.iloc[1:2,['course_name','duration']]\n",
    "df.iloc[1:2 , [0,1]]    "
   ]
  },
  {
   "cell_type": "code",
   "execution_count": null,
   "id": "fc45e42d",
   "metadata": {},
   "outputs": [],
   "source": [
    "df.loc[1:2,['course_name','duration']]"
   ]
  },
  {
   "cell_type": "code",
   "execution_count": null,
   "id": "fdb1e58a",
   "metadata": {},
   "outputs": [],
   "source": [
    "Q3. Reindex the given dataframe using a variable, reindex = [3,0,1,2] and store it in the variable, new_df\n",
    "then find the output for both new_df.loc[2] and new_df.iloc[2]."
   ]
  },
  {
   "cell_type": "code",
   "execution_count": null,
   "id": "a04e537e",
   "metadata": {},
   "outputs": [],
   "source": [
    "reindex = [3,0,1,2]\n",
    "new_df = df.reindex(reindex)\n",
    "new_df"
   ]
  },
  {
   "cell_type": "code",
   "execution_count": null,
   "id": "75ba249d",
   "metadata": {},
   "outputs": [],
   "source": [
    "new_df.loc[2]\n",
    "new_df.iloc[2]"
   ]
  },
  {
   "cell_type": "code",
   "execution_count": null,
   "id": "ca6e8439",
   "metadata": {},
   "outputs": [],
   "source": [
    "import pandas as pd\n",
    "import numpy as np\n",
    "columns = ['column_1', 'column_2', 'column_3', 'column_4', 'column_5', 'column_6']\n",
    "indices = [1,2,3,4,5,6]\n",
    "#Creating a dataframe:\n",
    "df1 = pd.DataFrame(np.random.rand(6,6), columns = columns, index = indices)\n",
    "df1"
   ]
  },
  {
   "cell_type": "code",
   "execution_count": null,
   "id": "afcdb0ec",
   "metadata": {},
   "outputs": [],
   "source": [
    "#Q4. Write a code to find the following statistical measurements for the above dataframe df1:\n",
    "#(i) mean of each and every column present in the dataframe."
   ]
  },
  {
   "cell_type": "code",
   "execution_count": null,
   "id": "322a265c",
   "metadata": {},
   "outputs": [],
   "source": [
    "df1.mean()"
   ]
  },
  {
   "cell_type": "code",
   "execution_count": null,
   "id": "067fdaa9",
   "metadata": {},
   "outputs": [],
   "source": [
    "(ii) standard deviation of column_1, ‘column_2’"
   ]
  },
  {
   "cell_type": "code",
   "execution_count": null,
   "id": "7a2325c6",
   "metadata": {},
   "outputs": [],
   "source": [
    "df2 = df1[['column_1','column_2']]\n",
    "df2.std()"
   ]
  },
  {
   "cell_type": "code",
   "execution_count": null,
   "id": "e0eadd8f",
   "metadata": {},
   "outputs": [],
   "source": [
    "Q5. Replace the data present in the second row of column, ‘column_2’ by a string variable then find the\n",
    "mean of column, column_2."
   ]
  },
  {
   "cell_type": "code",
   "execution_count": null,
   "id": "3d5a81bd",
   "metadata": {},
   "outputs": [],
   "source": [
    "df1"
   ]
  },
  {
   "cell_type": "code",
   "execution_count": null,
   "id": "26130bc0",
   "metadata": {},
   "outputs": [],
   "source": [
    "df1.loc[2,'column_2']='alpha'\n",
    "df1\n",
    "# Meanofcol2=df1['column_2'].mean().... Give error because we can not add string and float values together.\n"
   ]
  },
  {
   "cell_type": "code",
   "execution_count": null,
   "id": "dedfae93",
   "metadata": {},
   "outputs": [],
   "source": [
    "Q6. What do you understand about the windows function in pandas and list the types of windows\n",
    "functions?\n",
    "In Pandas, the window function is used to perform various calculations on a rolling or expanding window of data in a DataFrame\n",
    "or Series. This allows you to compute statistics, aggregates, or other operations over a specific window of rows at a time, \n",
    "which is especially useful for time series data and moving calculations.\n",
    "Here are some common types of window functions:\n",
    "    Aggregation Functions:-sum, mean, median,min,max\n",
    "    Statistical Functions:- std,var\n",
    "    Quantile Functions:- quantile(q)\n",
    "    Covariance and Correlation Functions:-\n",
    "    Resampling Functions:\n",
    "    Expanding Window Functions:\n",
    "    Window Transformation Functions:applymap(),agg()"
   ]
  },
  {
   "cell_type": "code",
   "execution_count": null,
   "id": "7777fff3",
   "metadata": {},
   "outputs": [],
   "source": [
    "Q7. Write a code to print only the current month and year at the time of answering this question."
   ]
  },
  {
   "cell_type": "code",
   "execution_count": null,
   "id": "24815350",
   "metadata": {},
   "outputs": [],
   "source": [
    "data = pd.date_range(start= '13-09-2023',  end = '30-09-2023')\n",
    "time_date = pd.DataFrame({'date':data})\n",
    "time_date['update_time'] = pd.DataFrame({'date':data})\n",
    "time_date['year'] = time_date['update_time'].dt.year\n",
    "time_date['year']\n",
    "time_date['month'] = time_date['update_time'].dt.month\n",
    "time_date['month']\n",
    "time_date"
   ]
  },
  {
   "cell_type": "code",
   "execution_count": null,
   "id": "0cc675fb",
   "metadata": {},
   "outputs": [],
   "source": [
    "Q8. Write a Python program that takes in two dates as input (in the format YYYY-MM-DD) and\n",
    "calculates the difference between them in days, hours, and minutes using Pandas time delta. The\n",
    "program should prompt the user to enter the dates and display the result."
   ]
  },
  {
   "cell_type": "code",
   "execution_count": null,
   "id": "b7ee727e",
   "metadata": {},
   "outputs": [],
   "source": [
    "from datetime import date\n",
    " \n",
    " \n",
    "def numOfDays(date1, date2):\n",
    "  #check which date is greater to avoid days output in -ve number\n",
    "    if date2 > date1:  \n",
    "        return (date2-date1).days\n",
    "    else:\n",
    "        return (date1-date2).days\n",
    " \n",
    " \n",
    "# Driver program\n",
    "date1 = date(2023, 12, 13)\n",
    "date2 = date(2023, 2, 25)\n",
    "print(numOfDays(date1, date2), \"days\")"
   ]
  },
  {
   "cell_type": "code",
   "execution_count": null,
   "id": "47bde358",
   "metadata": {},
   "outputs": [],
   "source": [
    "Q9. Write a Python program that reads a CSV file containing categorical data and converts a specified\n",
    "column to a categorical data type. The program should prompt the user to enter the file path, column\n",
    "name, and category order, and then display the sorted data."
   ]
  },
  {
   "cell_type": "code",
   "execution_count": null,
   "id": "c7ea0e3c",
   "metadata": {},
   "outputs": [],
   "source": [
    "def process_csv():\n",
    "    # Prompt the user for the file path\n",
    "    file_path = input(\"Enter the path to the CSV file: \")\n",
    "\n",
    "    try:\n",
    "        # Read the CSV file into a DataFrame\n",
    "        df = pd.read_csv(file_path)\n",
    "        \n",
    "        # Prompt the user for the column name to convert\n",
    "        column_name = input(\"Enter the column name to convert to categorical: \")\n",
    "        \n",
    "        # Check if the specified column exists in the DataFrame\n",
    "        if column_name not in df.columns:\n",
    "            print(f\"Column '{column_name}' not found in the CSV file.\")\n",
    "            return\n",
    "\n",
    "        # Prompt the user for the category order\n",
    "        categories = input(\"Enter the category order (comma-separated): \").split(',')\n",
    "        \n",
    "        # Convert the specified column to a categorical data type with the specified order\n",
    "        df[column_name] = df[column_name].astype(pd.CategoricalDtype(categories=categories, ordered=True))\n",
    "\n",
    "        # Display the sorted data\n",
    "        sorted_df = df.sort_values(by=[column_name])\n",
    "        print(\"\\nSorted Data:\")\n",
    "        print(sorted_df)\n",
    "        \n",
    "    except FileNotFoundError:\n",
    "        print(\"File not found. Please check the file path.\")\n",
    "    except Exception as e:\n",
    "        print(f\"An error occurred: {str(e)}\")\n",
    "\n",
    "# Main program\n",
    "if __name__ == \"__main__\":\n",
    "    process_csv()"
   ]
  },
  {
   "cell_type": "code",
   "execution_count": null,
   "id": "7cfdf8f3",
   "metadata": {},
   "outputs": [],
   "source": [
    "Q10. Write a Python program that reads a CSV file containing sales data for different products and\n",
    "visualizes the data using a stacked bar chart to show the sales of each product category over time. The\n",
    "program should prompt the user to enter the file path and display the chart."
   ]
  },
  {
   "cell_type": "code",
   "execution_count": null,
   "id": "e1bfb5c9",
   "metadata": {},
   "outputs": [],
   "source": [
    "import pandas as pd\n",
    "import matplotlib.pyplot as plt\n",
    "\n",
    "# Function to read and visualize sales data\n",
    "def visualize_sales():\n",
    "    # Prompt the user for the file path\n",
    "    file_path = input(\"Enter the path to the CSV file containing sales data: \")\n",
    "\n",
    "    try:\n",
    "        # Read the CSV file into a DataFrame\n",
    "        df = pd.read_csv(file_path)\n",
    "        \n",
    "        # Pivot the data to create a DataFrame suitable for stacking\n",
    "        pivot_df = df.pivot(index='Time', columns='Product Category', values='Sales Amount')\n",
    "        \n",
    "        # Create a stacked bar chart\n",
    "        pivot_df.plot(kind='bar', stacked=True, figsize=(10, 6))\n",
    "        \n",
    "        # Customize chart labels and title\n",
    "        plt.xlabel('Time')\n",
    "        plt.ylabel('Sales Amount')\n",
    "        plt.title('Stacked Bar Chart of Sales by Product Category Over Time')\n",
    "        \n",
    "        # Display the chart\n",
    "        plt.legend(title='Product Category', bbox_to_anchor=(1.05, 1), loc='upper left')\n",
    "        plt.tight_layout()\n",
    "        plt.show()\n",
    "\n",
    "    except FileNotFoundError:\n",
    "        print(\"File not found. Please check the file path.\")\n",
    "    except Exception as e:\n",
    "        print(f\"An error occurred: {str(e)}\")\n",
    "\n",
    "# Main program\n",
    "if __name__ == \"__main__\":\n",
    "    visualize_sales()"
   ]
  },
  {
   "cell_type": "code",
   "execution_count": null,
   "id": "f575814e",
   "metadata": {},
   "outputs": [],
   "source": [
    "Q11. You are given a CSV file containing student data that includes the student ID and their test score. Write\n",
    "a Python program that reads the CSV file, calculates the mean, median, and mode of the test scores, and\n",
    "displays the results in a table."
   ]
  },
  {
   "cell_type": "code",
   "execution_count": 18,
   "id": "70fbe22e",
   "metadata": {},
   "outputs": [
    {
     "name": "stdout",
     "output_type": "stream",
     "text": [
      "Enter name of csv file:Student_data.csv\n",
      "+-----------+--------+\n",
      "| Statistic | Value |\n",
      "+-----------+--------+\n",
      "| Mean | 84.5 |\n",
      "| Median | 85.0 |\n",
      "| Mode | 0    85\n",
      "Name: Test Score, dtype: int64 |\n"
     ]
    }
   ],
   "source": [
    "inpt=input(\"Enter name of csv file:\")\n",
    "student_data = pd.read_csv(inpt)\n",
    "student_data\n",
    "mean=student_data['Test Score'].mean()\n",
    "median=student_data['Test Score'].median()\n",
    "mode=student_data['Test Score'].mode()\n",
    "print(\"+-----------+--------+\")\n",
    "print(\"| Statistic | Value |\")\n",
    "print(\"+-----------+--------+\")\n",
    "print(\"| Mean |\",mean,\"|\")\n",
    "print(\"| Median |\",median,\"|\")\n",
    "print(\"| Mode |\",mode,\"|\")\n",
    "      \n"
   ]
  },
  {
   "cell_type": "code",
   "execution_count": null,
   "id": "f2d16885",
   "metadata": {},
   "outputs": [],
   "source": []
  },
  {
   "cell_type": "code",
   "execution_count": null,
   "id": "16ba41be",
   "metadata": {},
   "outputs": [],
   "source": []
  },
  {
   "cell_type": "code",
   "execution_count": null,
   "id": "684a7c13",
   "metadata": {},
   "outputs": [],
   "source": []
  }
 ],
 "metadata": {
  "kernelspec": {
   "display_name": "Python 3 (ipykernel)",
   "language": "python",
   "name": "python3"
  },
  "language_info": {
   "codemirror_mode": {
    "name": "ipython",
    "version": 3
   },
   "file_extension": ".py",
   "mimetype": "text/x-python",
   "name": "python",
   "nbconvert_exporter": "python",
   "pygments_lexer": "ipython3",
   "version": "3.9.13"
  }
 },
 "nbformat": 4,
 "nbformat_minor": 5
}
